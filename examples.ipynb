{
 "cells": [
  {
   "cell_type": "code",
   "execution_count": null,
   "metadata": {},
   "outputs": [],
   "source": [
    "import matplotlib.pyplot as plt\n",
    "import matplotlib.patches as patches"
   ]
  },
  {
   "cell_type": "markdown",
   "metadata": {},
   "source": [
    "## Data Setup"
   ]
  },
  {
   "cell_type": "code",
   "execution_count": null,
   "metadata": {},
   "outputs": [],
   "source": [
    "states = {'WA': (2, 7), 'NT': (3, 8), 'SA': (4, 7), 'Q': (\n",
    "    6, 8), 'NSW': (6, 6), 'V': (5, 5), 'T': (7, 7)}\n",
    "borders = [('WA', 'NT'), ('WA', 'SA'), ('NT', 'SA'), ('SA', 'Q'),\n",
    "           ('SA', 'NSW'), ('SA', 'V'), ('Q', 'NSW'), ('NSW', 'V')]\n",
    "colors = ['red', 'green', 'blue', 'white']\n",
    "C = {}  # < scope , relaion >\n",
    "X = ['WA', 'NT', 'SA', 'Q', 'NSW', 'V', 'T']\n",
    "D = {x: [1, 2, 3] for x in X}\n",
    "constraints = []"
   ]
  },
  {
   "cell_type": "markdown",
   "metadata": {},
   "source": [
    "## Constraints Definition"
   ]
  },
  {
   "cell_type": "code",
   "execution_count": null,
   "metadata": {},
   "outputs": [],
   "source": [
    "# unary constraints\n",
    "for var in X:\n",
    "    constraints.append(([var, var], lambda val: val in D[var]))\n",
    "\n",
    "# binary constraints\n",
    "\n",
    "\n",
    "def constraint_func(A, a, B, b):\n",
    "    return a != b\n",
    "\n",
    "\n",
    "constraints.append((['WA', 'NT'], constraint_func))\n",
    "constraints.append((['WA', 'SA'], constraint_func))\n",
    "constraints.append((['NT', 'SA'], constraint_func))\n",
    "constraints.append((['SA', 'Q'], constraint_func))\n",
    "constraints.append((['SA', 'NSW'], constraint_func))\n",
    "constraints.append((['SA', 'V'], constraint_func))\n",
    "constraints.append((['Q', 'NSW'], constraint_func))\n",
    "constraints.append((['NSW', 'V'], constraint_func))"
   ]
  },
  {
   "cell_type": "markdown",
   "metadata": {},
   "source": [
    "## CSP Class"
   ]
  },
  {
   "cell_type": "code",
   "execution_count": null,
   "metadata": {},
   "outputs": [],
   "source": [
    "class CSP:\n",
    "    \"\"\"\n",
    "    class for constraint satisfaction problem\n",
    "    \"\"\"\n",
    "\n",
    "    def __init__(self, variables, domains, constraints):\n",
    "        self.variables = variables\n",
    "        self.domains = domains\n",
    "        self.constraints = constraints\n",
    "\n",
    "    def is_complete(self, assignment):\n",
    "        \"\"\"\n",
    "        check if the assignment is complete\n",
    "        \"\"\"\n",
    "        return set(assignment.keys()) == set(self.variables)\n",
    "\n",
    "    def order_domain_values(self, var, assignment):\n",
    "        \"\"\"\n",
    "        order the domain values\n",
    "        \"\"\"\n",
    "        return self.domains[var]\n",
    "\n",
    "    def select_unassigned_variable(self, assignment):\n",
    "        \"\"\"\n",
    "        select the unassigned variable\n",
    "        \"\"\"\n",
    "        for var in self.variables:\n",
    "            if var not in assignment:\n",
    "                return var\n",
    "        return None\n",
    "\n",
    "    def assign(self, var, value):\n",
    "        \"\"\"\n",
    "        assign value to a variable by updating the domain\n",
    "        \"\"\"\n",
    "        self.domains[var] = [value]\n",
    "\n",
    "\n",
    "\n",
    "    def draw_constraints_graph(self):\n",
    "        import networkx as nx\n",
    "        G = nx.Graph()\n",
    "        for constraint in self.constraints:\n",
    "            # Assuming each constraint is a tuple where the first element is a list of variables\n",
    "            G.add_edge(*constraint[0])\n",
    "        nx.draw(G, with_labels=True)\n",
    "        plt.show()\n",
    "\n",
    "    def is_consistent(self, var, value, assignment):\n",
    "        \"\"\"\n",
    "        check if the value is consistent with the assignment\n",
    "        \"\"\"\n",
    "        for constraint in self.constraints:\n",
    "            if var in constraint[0]:\n",
    "                for other_var in constraint[0]:\n",
    "                    if other_var != var and other_var in assignment:\n",
    "                        if not constraint[1](var, value, other_var, assignment[other_var]):\n",
    "                            return False\n",
    "        return True"
   ]
  },
  {
   "cell_type": "markdown",
   "metadata": {},
   "source": [
    "## AC-3 Algorithm"
   ]
  },
  {
   "cell_type": "code",
   "execution_count": null,
   "metadata": {},
   "outputs": [],
   "source": [
    "def revise(csp, Xi, Xj):\n",
    "    revised = False\n",
    "    for x in csp.domains[Xi]:\n",
    "        # Check if there's any value y in the domain of Xj that satisfies the constraint with Xi=x\n",
    "        if not any(\n",
    "            any(\n",
    "                constraint[1](Xi, x, Xj, y)\n",
    "                for constraint in csp.constraints\n",
    "                if set(constraint[0]) == set([Xi, Xj])\n",
    "            )\n",
    "            for y in csp.domains[Xj]\n",
    "        ):\n",
    "            print(f\"Revise {Xi} -> {Xj}: {csp.domains[Xi]}-{x}\")\n",
    "            print(f\"Before: {csp.domains[Xi]}\")\n",
    "            csp.domains[Xi].remove(x)\n",
    "            print(f\"After: {csp.domains[Xi]}\")\n",
    "            revised = True\n",
    "    return revised\n",
    "\n",
    "\n",
    "def AC_3(csp) -> bool:\n",
    "    \"\"\"\n",
    "    AC_3 algorithm\n",
    "\n",
    "    Args:\n",
    "    csp (CSP): constraint satisfaction problem\n",
    "\n",
    "    Returns:\n",
    "    bool: True if the CSP is arc consistent, False otherwise\n",
    "    \"\"\"\n",
    "    queue = [\n",
    "        (Xi, Xj)\n",
    "        for constraint in csp.constraints\n",
    "        for Xi in constraint[0]\n",
    "        for Xj in constraint[0]\n",
    "        if Xi != Xj\n",
    "    ]\n",
    "    print(\"Queue:\", queue)\n",
    "    while queue:\n",
    "        (Xi, Xj) = queue.pop()\n",
    "        if revise(csp, Xi, Xj):\n",
    "            if len(csp.domains[Xi]) == 0:\n",
    "                return False\n",
    "            for Xk in csp.variables:\n",
    "                if Xk != Xi and Xk != Xj:\n",
    "                    queue.append((Xk, Xi))\n",
    "    return True"
   ]
  },
  {
   "cell_type": "markdown",
   "metadata": {},
   "source": [
    "## Backtracking Algorithm"
   ]
  },
  {
   "cell_type": "markdown",
   "metadata": {},
   "source": [
    "### Plot Map"
   ]
  },
  {
   "cell_type": "code",
   "execution_count": null,
   "metadata": {},
   "outputs": [],
   "source": [
    "def plot_map(assignments, states=states, borders=borders, colors=colors, X=X):\n",
    "    fig, ax = plt.subplots()\n",
    "    fig.patch.set_facecolor('none')  # Set the figure background to none\n",
    "    ax.patch.set_facecolor('none')  # Set the axes background to none\n",
    "    ax.set_xlim(0, 10)\n",
    "    ax.set_ylim(0, 10)\n",
    "    ax.set_aspect(\"equal\")\n",
    "    # draw states\n",
    "    for state, (x, y) in states.items():\n",
    "        ax.add_patch(patches.Circle((x, y), 0.5, color=\"grey\"))\n",
    "        ax.text(x, y, state, ha=\"center\", va=\"center\")\n",
    "    # draw borders\n",
    "    for state1, state2 in borders:\n",
    "        x1, y1 = states[state1]\n",
    "        x2, y2 = states[state2]\n",
    "        ax.plot([x1, x2], [y1, y2], \"k-\")\n",
    "\n",
    "    # for each unassigned variable, add a circle with the domain colors\n",
    "    for var in X:\n",
    "        if var not in assignments:\n",
    "            x, y = states[var]\n",
    "            for i, color in enumerate(colors, 1):\n",
    "                ax.add_patch(patches.Circle((x + i * 0.3, y), 0.1, color=color))\n",
    "\n",
    "    # add colors to the map\n",
    "    for var, domain in assignments.items():\n",
    "        x, y = states[var]\n",
    "        ax.add_patch(patches.Circle((x, y), 0.5, color=colors[domain - 1]))\n",
    "        ax.text(x, y, var, ha=\"center\", va=\"center\")\n",
    "\n",
    "    # remove axis\n",
    "    ax.axis(\"off\")\n",
    "\n",
    "    # set transparency\n",
    "    for patch in ax.patches:\n",
    "        patch.set_alpha(0.5)\n",
    "\n",
    "    # remove background\n",
    "    fig.patch.set_alpha(0.0)\n",
    "    ax.patch.set_alpha(0.0)\n",
    "\n",
    "    plt.show()\n"
   ]
  },
  {
   "cell_type": "code",
   "execution_count": null,
   "metadata": {},
   "outputs": [],
   "source": [
    "def backtracking_search(csp):\n",
    "    \"\"\"\n",
    "    backtracking search\n",
    "    \"\"\"\n",
    "    return backtrack(csp, {})\n",
    "\n",
    "\n",
    "def backtrack(csp, assignment):\n",
    "    \"\"\"\n",
    "    Backtracking algorithm with arc consistency inference.\n",
    "    \"\"\"\n",
    "    if csp.is_complete(assignment):\n",
    "        return assignment\n",
    "    var = csp.select_unassigned_variable(assignment)\n",
    "    for value in csp.order_domain_values(var, assignment):\n",
    "        if csp.is_consistent(var, value, assignment):\n",
    "            csp.assign(var, value)\n",
    "            assignment[var] = value\n",
    "            plot_map(assignment)\n",
    "            result = backtrack(csp, assignment)\n",
    "            if result:\n",
    "                return result\n",
    "            del assignment[var]\n",
    "            # Restore the pruned domain\n",
    "\n",
    "    return None"
   ]
  },
  {
   "cell_type": "code",
   "execution_count": null,
   "metadata": {},
   "outputs": [],
   "source": [
    "csp = CSP(X, D, constraints)\n",
    "assignment = backtracking_search(csp)\n",
    "plot_map(assignment)"
   ]
  },
  {
   "cell_type": "markdown",
   "metadata": {},
   "source": [
    "# Constraints Satisfaction Problem (CSP) - Overview\n",
    "\n",
    "## Introduction\n",
    "\n",
    "A constraint satisfaction problem (CSP) is a problem defined by a set of variables, a set of domains, and a set of constraints. The goal is to assign a value to each variable such that the constraints are satisfied. CSPs are a special kind of problem that can be solved by search algorithms. They are used in many areas of artificial intelligence (AI), including scheduling, planning, and decision making.\n",
    "\n",
    "## Definition\n",
    "\n",
    "A constraint satisfaction problem (CSP) is defined by the following components:\n",
    "\n",
    "- Variables: A set of variables, each of which can take on a value from a domain.\n",
    "- Domains: A set of domains, each of which contains the possible values that a variable can take on.\n",
    "- Constraints: A set of constraints, each of which specifies the allowable combinations of values for a subset of the variables.\n",
    "\n",
    "The goal of a CSP is to assign a value to each variable such that the constraints are satisfied. This is done by searching for a solution that satisfies all of the constraints. The search space for a CSP is defined by the possible assignments of values to the variables. The search algorithms used to solve CSPs are designed to explore this search space in an efficient manner. "
   ]
  },
  {
   "cell_type": "code",
   "execution_count": null,
   "metadata": {},
   "outputs": [],
   "source": []
  },
  {
   "cell_type": "code",
   "execution_count": null,
   "metadata": {},
   "outputs": [],
   "source": [
    "import matplotlib.pyplot as plt\n",
    "import matplotlib.patches as patches"
   ]
  },
  {
   "cell_type": "markdown",
   "metadata": {},
   "source": [
    "### Map-coloring Problem"
   ]
  },
  {
   "cell_type": "code",
   "execution_count": null,
   "metadata": {},
   "outputs": [],
   "source": []
  },
  {
   "cell_type": "markdown",
   "metadata": {},
   "source": [
    "## Back Tracking\n",
    "\n",
    "Backtracking is a general algorithm for finding all (or some) solutions to some computational problems, notably constraint satisfaction problems, that incrementally builds candidates to the solutions, and abandons a candidate (\"backtracks\") as soon as it determines that the candidate cannot possibly be completed to a valid solution.\n",
    "\n",
    "## Forward Checking\n",
    "\n",
    "Forward checking is a way of making backtracking search more efficient. It is used to reduce the number of assignments that need to be made during the search. The basic idea is to keep track of the remaining legal values for each variable. When a variable is assigned a value, the remaining legal values for the other variables are updated to reflect the fact that the constraint is now partially satisfied.\n",
    "\n",
    "## Arc Consistency\n",
    "\n",
    "Arc consistency is a property of a constraint satisfaction problem that can be used to reduce the search space. It is based on the idea of removing values from the domains of the variables that are not consistent with the constraints. The basic idea is to check each pair of variables to see if there is a value in the domain of one variable that is not consistent with the constraints on the other variable. If such a value is found, it is removed from the domain of the first variable."
   ]
  },
  {
   "cell_type": "code",
   "execution_count": null,
   "metadata": {},
   "outputs": [],
   "source": []
  },
  {
   "cell_type": "markdown",
   "metadata": {},
   "source": [
    "### AC-3 Algorithm"
   ]
  },
  {
   "cell_type": "code",
   "execution_count": null,
   "metadata": {},
   "outputs": [],
   "source": []
  }
 ],
 "metadata": {
  "kernelspec": {
   "display_name": "Python 3",
   "language": "python",
   "name": "python3"
  },
  "language_info": {
   "codemirror_mode": {
    "name": "ipython",
    "version": 3
   },
   "file_extension": ".py",
   "mimetype": "text/x-python",
   "name": "python",
   "nbconvert_exporter": "python",
   "pygments_lexer": "ipython3",
   "version": "3.11.2"
  }
 },
 "nbformat": 4,
 "nbformat_minor": 2
}
